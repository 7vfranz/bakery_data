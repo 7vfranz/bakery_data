{
 "cells": [
  {
   "cell_type": "code",
   "execution_count": 1,
   "id": "19bd896c-3ba0-4e44-bc20-52165e6410b7",
   "metadata": {},
   "outputs": [],
   "source": [
    "import pandas as pd\n",
    "from datetime import datetime as dt\n",
    "from datetime import timedelta\n",
    "import seaborn as sns\n",
    "import matplotlib.pyplot as plt\n",
    "import numpy as np\n",
    "import regex as re\n",
    "\n",
    "import warnings \n",
    "warnings.simplefilter(action='ignore', category=FutureWarning)\n",
    "# from dateutil.parser import parse"
   ]
  },
  {
   "attachments": {},
   "cell_type": "markdown",
   "id": "cd626770",
   "metadata": {},
   "source": [
    "### Cleaning date and time data for orders"
   ]
  },
  {
   "cell_type": "code",
   "execution_count": 2,
   "id": "48f862cc-422f-43c9-83de-a6f9d895c5a8",
   "metadata": {},
   "outputs": [],
   "source": [
    "# import excel file as pandas df\n",
    "path = '../data/'\n",
    "file = 'bakery_orders.xlsx'\n",
    "pub_raw = pd.read_excel(path + file)\n",
    "# create a copy \n",
    "pub = pub_raw.copy(deep=True)"
   ]
  },
  {
   "cell_type": "code",
   "execution_count": 3,
   "id": "30bd21a3",
   "metadata": {},
   "outputs": [],
   "source": [
    "# subset columns that will be worked on\n",
    "pub = pub[['Submitted On', 'Pick Up Date', 'Pick Up Time',\n",
    "            'What would you like to order']]\n",
    "\n",
    "# lower the column names\n",
    "pub.columns = pub.columns.str.lower()\n",
    "\n",
    "# remove duplicates from dataset\n",
    "pub = pub.drop_duplicates(subset='what would you like to order', keep='first')"
   ]
  },
  {
   "cell_type": "code",
   "execution_count": 4,
   "id": "ea4b12f9-ca33-4b9a-8896-8ad66f7c7f85",
   "metadata": {},
   "outputs": [],
   "source": [
    "#convert submission to date times separate month, year, time \n",
    "pub['submitted on']=pd.to_datetime(pub['submitted on'], dayfirst=False)\n",
    "pub['order_date']=pd.to_datetime(pub['submitted on']).dt.date\n",
    "pub['order_year']=pd.to_datetime(pub['submitted on']).dt.year\n",
    "pub['order_month']=pd.to_datetime(pub['submitted on']).dt.month_name()\n",
    "pub['order_time']=pd.to_datetime(pub['submitted on']).dt.time\n",
    "pub['order_day']=pd.to_datetime(pub['submitted on']).dt.day_name()"
   ]
  },
  {
   "cell_type": "code",
   "execution_count": 5,
   "id": "35217538",
   "metadata": {},
   "outputs": [],
   "source": [
    "# converting pu_datetime \n",
    "pub['pu_date'] = pd.to_datetime(pub['pick up date'], dayfirst=False)\n",
    "pub['pu_month_name']=pd.to_datetime(pub['pu_date']).dt.month_name()\n",
    "pub['pu_month']=pd.to_datetime(pub['pu_date']).dt.strftime('%m')\n",
    "pub['pu_day_name']=pd.to_datetime(pub['pu_date']).dt.day_name()\n",
    "pub['pu_day']=pd.to_datetime(pub['pu_date']).dt.strftime('%d')"
   ]
  },
  {
   "cell_type": "code",
   "execution_count": 6,
   "id": "7515b054",
   "metadata": {},
   "outputs": [],
   "source": [
    "# create new clean pu_date because some pu_year were before 2020 \n",
    "pub['pu_date_clean']=pub[['order_year','pu_month','pu_day']].apply(lambda x: '-'.join(x.astype(str)), axis=1)"
   ]
  },
  {
   "cell_type": "code",
   "execution_count": 7,
   "id": "0c8b8668",
   "metadata": {},
   "outputs": [],
   "source": [
    "# change pick up time to string for cleaning\n",
    "pub['pick up time'] = pub['pick up time'].astype(str)\n",
    "# replace singular 0 to double 0s\n",
    "pub['pick up time'] = pub['pick up time'].str.replace(r\"\\b(0)\\b\", \"00\", regex=True)"
   ]
  },
  {
   "cell_type": "code",
   "execution_count": 8,
   "id": "e1f164c1",
   "metadata": {},
   "outputs": [],
   "source": [
    "# convert pick up time to datetime format\n",
    "pub['pu_time'] = pd.to_datetime(pub['pick up time'], infer_datetime_format=True, errors='coerce').dt.time"
   ]
  },
  {
   "cell_type": "code",
   "execution_count": 9,
   "id": "7c74094c",
   "metadata": {},
   "outputs": [],
   "source": [
    "# convert remaining missings with wrong format (mixed 24H with AM/PM)\n",
    "pub_na_pu_time = pub[pub['pu_time'].isna()]\n",
    "pub['pu_time'] = pub['pu_time'].fillna(pd.to_datetime(pub_na_pu_time['pick up time'], format = '%H:%M:%S %p').dt.time)"
   ]
  },
  {
   "cell_type": "code",
   "execution_count": 10,
   "id": "d7d3aa47",
   "metadata": {},
   "outputs": [],
   "source": [
    "# get the pick up hour only, round to lower hour\n",
    "pub['pu_hour'] = pd.to_datetime(pub['pu_time'], format='%H:%M:%S').dt.hour"
   ]
  },
  {
   "cell_type": "code",
   "execution_count": 11,
   "id": "ade30647",
   "metadata": {},
   "outputs": [],
   "source": [
    "# function to correct errors when pick up hours are outside open hours\n",
    "def open_hour_fix(x): \n",
    "    # before 7 AM\n",
    "    if x < 7: \n",
    "        return x + 12 \n",
    "    # after 7 PM\n",
    "    elif x > 19:\n",
    "        return x - 12\n",
    "    else:\n",
    "        return x"
   ]
  },
  {
   "cell_type": "code",
   "execution_count": 12,
   "id": "e5e7706e",
   "metadata": {},
   "outputs": [],
   "source": [
    "pub['pu_hour_clean'] = pub['pu_hour'].apply(open_hour_fix)"
   ]
  },
  {
   "cell_type": "code",
   "execution_count": 13,
   "id": "7cea44ac",
   "metadata": {},
   "outputs": [],
   "source": [
    "# revert back to time\n",
    "pub['pu_hour_dt'] = pd.to_datetime(pub['pu_hour_clean'], format='%H').dt.strftime('%H:%M')\n",
    "# change to string with H and M only\n",
    "# pub['pu_hour_dt'] = pd.to_datetime(pub['pu_hour_dt']).strftime('%H:%M')"
   ]
  },
  {
   "cell_type": "code",
   "execution_count": 14,
   "id": "392c3118",
   "metadata": {},
   "outputs": [],
   "source": [
    "# keep: pu_date, order_year, pu_month, pu_day, pu_hour_dt\n",
    "\n",
    "pub_clean = pub[['pu_date_clean', 'order_year', 'pu_month', 'pu_month_name', 'pu_day', 'pu_day_name', 'pu_hour_dt']]"
   ]
  },
  {
   "cell_type": "code",
   "execution_count": 15,
   "id": "c24b38a4",
   "metadata": {},
   "outputs": [],
   "source": [
    "pub_clean = pub_clean.rename(columns={\n",
    "    'pu_date_clean':'pu_date', \n",
    "    'pu_month':'order_month', \n",
    "    'pu_month_name':'order_month_name', \n",
    "    'pu_hour_dt':'pu_hour'\n",
    "    })"
   ]
  },
  {
   "cell_type": "code",
   "execution_count": 16,
   "id": "ee2a4d0d",
   "metadata": {},
   "outputs": [
    {
     "data": {
      "text/html": [
       "<div>\n",
       "<style scoped>\n",
       "    .dataframe tbody tr th:only-of-type {\n",
       "        vertical-align: middle;\n",
       "    }\n",
       "\n",
       "    .dataframe tbody tr th {\n",
       "        vertical-align: top;\n",
       "    }\n",
       "\n",
       "    .dataframe thead th {\n",
       "        text-align: right;\n",
       "    }\n",
       "</style>\n",
       "<table border=\"1\" class=\"dataframe\">\n",
       "  <thead>\n",
       "    <tr style=\"text-align: right;\">\n",
       "      <th></th>\n",
       "      <th>pu_date</th>\n",
       "      <th>order_year</th>\n",
       "      <th>order_month</th>\n",
       "      <th>order_month_name</th>\n",
       "      <th>pu_day</th>\n",
       "      <th>pu_day_name</th>\n",
       "      <th>pu_hour</th>\n",
       "    </tr>\n",
       "  </thead>\n",
       "  <tbody>\n",
       "    <tr>\n",
       "      <th>0</th>\n",
       "      <td>2020-03-13</td>\n",
       "      <td>2020</td>\n",
       "      <td>03</td>\n",
       "      <td>March</td>\n",
       "      <td>13</td>\n",
       "      <td>Friday</td>\n",
       "      <td>16:00</td>\n",
       "    </tr>\n",
       "    <tr>\n",
       "      <th>1</th>\n",
       "      <td>2020-03-31</td>\n",
       "      <td>2020</td>\n",
       "      <td>03</td>\n",
       "      <td>March</td>\n",
       "      <td>31</td>\n",
       "      <td>Tuesday</td>\n",
       "      <td>10:00</td>\n",
       "    </tr>\n",
       "    <tr>\n",
       "      <th>2</th>\n",
       "      <td>2020-04-01</td>\n",
       "      <td>2020</td>\n",
       "      <td>04</td>\n",
       "      <td>April</td>\n",
       "      <td>01</td>\n",
       "      <td>Wednesday</td>\n",
       "      <td>09:00</td>\n",
       "    </tr>\n",
       "    <tr>\n",
       "      <th>3</th>\n",
       "      <td>2020-04-03</td>\n",
       "      <td>2020</td>\n",
       "      <td>04</td>\n",
       "      <td>April</td>\n",
       "      <td>03</td>\n",
       "      <td>Friday</td>\n",
       "      <td>11:00</td>\n",
       "    </tr>\n",
       "    <tr>\n",
       "      <th>4</th>\n",
       "      <td>2020-04-03</td>\n",
       "      <td>2020</td>\n",
       "      <td>04</td>\n",
       "      <td>April</td>\n",
       "      <td>03</td>\n",
       "      <td>Friday</td>\n",
       "      <td>13:00</td>\n",
       "    </tr>\n",
       "  </tbody>\n",
       "</table>\n",
       "</div>"
      ],
      "text/plain": [
       "      pu_date  order_year order_month order_month_name pu_day pu_day_name  \\\n",
       "0  2020-03-13        2020          03            March     13      Friday   \n",
       "1  2020-03-31        2020          03            March     31     Tuesday   \n",
       "2  2020-04-01        2020          04            April     01   Wednesday   \n",
       "3  2020-04-03        2020          04            April     03      Friday   \n",
       "4  2020-04-03        2020          04            April     03      Friday   \n",
       "\n",
       "  pu_hour  \n",
       "0   16:00  \n",
       "1   10:00  \n",
       "2   09:00  \n",
       "3   11:00  \n",
       "4   13:00  "
      ]
     },
     "execution_count": 16,
     "metadata": {},
     "output_type": "execute_result"
    }
   ],
   "source": [
    "pub_clean.head()"
   ]
  },
  {
   "cell_type": "code",
   "execution_count": 17,
   "id": "3e18b7c2",
   "metadata": {},
   "outputs": [
    {
     "data": {
      "text/plain": [
       "<AxesSubplot:xlabel='count', ylabel='pu_hour'>"
      ]
     },
     "execution_count": 17,
     "metadata": {},
     "output_type": "execute_result"
    },
    {
     "data": {
      "image/png": "[encoded data removed]",
      "text/plain": [
       "<Figure size 720x576 with 4 Axes>"
      ]
     },
     "metadata": {
      "needs_background": "light"
     },
     "output_type": "display_data"
    }
   ],
   "source": [
    "day_order = ['Sunday', 'Monday', 'Tuesday', 'Wednesday', 'Thursday', 'Friday', 'Saturday']\n",
    "\n",
    "month_order = ['January', 'February', 'March', 'April', 'May', 'June',\n",
    "               'July', 'August', 'September', 'October', 'November', 'December']\n",
    "\n",
    "open_hours = sorted(list(pub_clean['pu_hour'].astype(str).unique()))\n",
    "\n",
    "fig, axs = plt.subplots(2,2,figsize=(10,8), constrained_layout=True)\n",
    "\n",
    "sns.countplot(y= pub_clean['order_year'], ax=axs[0,0])\n",
    "\n",
    "sns.countplot(y= pub_clean['order_month_name'], order=month_order, ax=axs[0,1])\n",
    "\n",
    "sns.countplot(y= pub_clean['pu_day_name'], order=day_order, ax=axs[1,0])\n",
    "\n",
    "sns.countplot(y= pub_clean['pu_hour'], order=open_hours, ax=axs[1,1])"
   ]
  },
  {
   "cell_type": "code",
   "execution_count": 18,
   "id": "edecd767",
   "metadata": {},
   "outputs": [],
   "source": [
    "pub_clean.to_excel(path + 'bakery_orders_clean.xlsx')"
   ]
  },
  {
   "attachments": {},
   "cell_type": "markdown",
   "id": "faebfbcd",
   "metadata": {},
   "source": [
    "### Cleaning up orders text"
   ]
  },
  {
   "cell_type": "code",
   "execution_count": 17,
   "id": "8ac9e052",
   "metadata": {},
   "outputs": [],
   "source": [
    "orders = pub[['what would you like to order']]"
   ]
  },
  {
   "cell_type": "code",
   "execution_count": 18,
   "id": "0a2d8cee",
   "metadata": {},
   "outputs": [],
   "source": [
    "orders = orders.rename(columns={'what would you like to order': 'order'})"
   ]
  },
  {
   "cell_type": "code",
   "execution_count": 66,
   "id": "67aa1e71",
   "metadata": {},
   "outputs": [],
   "source": [
    "# remove punctuation \n",
    "import string\n",
    "string.punctuation\n",
    "\n",
    "def del_punct(text):\n",
    "    text=\"\".join([char for char in text if char not in string.punctuation])\n",
    "    return text\n",
    "\n",
    "# lower case text \n",
    "def lowercase(text):\n",
    "    text=text.lower()\n",
    "    return text\n",
    "\n",
    "# deleting stop words\n",
    "from nltk.corpus import stopwords\n",
    "engStopWords = stopwords.words('english')\n",
    "\n",
    "def del_stopWords(text):\n",
    "    word_list = text.split()\n",
    "    text = \" \".join([word for word in word_list if word not in engStopWords])\n",
    "    return text\n",
    "\n",
    "# lemmatize words, removing plural \n",
    "from nltk import WordNetLemmatizer\n",
    "lemmatizer=WordNetLemmatizer()\n",
    "\n",
    "def lem_text(text):\n",
    "    word_list = text.split()\n",
    "    text = \" \".join([lemmatizer.lemmatize(word) for word in word_list])\n",
    "    return text\n",
    "\n",
    "\n",
    "# Combining all pre-processing\n",
    "def preprocess_text(text):\n",
    "    text = lowercase(text)\n",
    "    text= del_stopWords(text)\n",
    "    text = lem_text(text)\n",
    "    text = del_punct(text)\n",
    "    return text"
   ]
  },
  {
   "cell_type": "code",
   "execution_count": 67,
   "id": "5429db85",
   "metadata": {},
   "outputs": [],
   "source": [
    "orders['order'] = orders['order'].astype(str)"
   ]
  },
  {
   "cell_type": "code",
   "execution_count": 122,
   "id": "82639a3c",
   "metadata": {},
   "outputs": [
    {
     "data": {
      "text/html": [
       "<div>\n",
       "<style scoped>\n",
       "    .dataframe tbody tr th:only-of-type {\n",
       "        vertical-align: middle;\n",
       "    }\n",
       "\n",
       "    .dataframe tbody tr th {\n",
       "        vertical-align: top;\n",
       "    }\n",
       "\n",
       "    .dataframe thead th {\n",
       "        text-align: right;\n",
       "    }\n",
       "</style>\n",
       "<table border=\"1\" class=\"dataframe\">\n",
       "  <thead>\n",
       "    <tr style=\"text-align: right;\">\n",
       "      <th></th>\n",
       "      <th>order</th>\n",
       "      <th>order_test</th>\n",
       "      <th>order_test2</th>\n",
       "    </tr>\n",
       "  </thead>\n",
       "  <tbody>\n",
       "    <tr>\n",
       "      <th>0</th>\n",
       "      <td>1 dozen vanilla cupcakes (no sprinkle)\\n1 doze...</td>\n",
       "      <td>dozen vanilla cupcakes (no sprinkle) dozen va...</td>\n",
       "      <td>dozen vanilla cupcake no sprinkle dozen vanill...</td>\n",
       "    </tr>\n",
       "    <tr>\n",
       "      <th>1</th>\n",
       "      <td>Can I please order 4 pizza doughs, 2 dozen cru...</td>\n",
       "      <td>Can I please order pizza doughs, dozen crusty ...</td>\n",
       "      <td>please order pizza doughs dozen crusty rolls f...</td>\n",
       "    </tr>\n",
       "    <tr>\n",
       "      <th>2</th>\n",
       "      <td>I would like to order 12 spinach empanadas , a...</td>\n",
       "      <td>I would like to order spinach empanadas , a do...</td>\n",
       "      <td>would like order spinach empanadas  dozen donu...</td>\n",
       "    </tr>\n",
       "    <tr>\n",
       "      <th>3</th>\n",
       "      <td>6 donuts - 2 Boston crème, 2 glaze, 2 vanilla ...</td>\n",
       "      <td>donuts - Boston crème, glaze, vanilla sprinkl...</td>\n",
       "      <td>donut  boston crème glaze vanilla sprinkle if ...</td>\n",
       "    </tr>\n",
       "    <tr>\n",
       "      <th>4</th>\n",
       "      <td>May I please have 4 pizza doughs, and 20 of yo...</td>\n",
       "      <td>May I please have pizza doughs, and of r tim b...</td>\n",
       "      <td>may please pizza doughs r tim bit the powdered...</td>\n",
       "    </tr>\n",
       "    <tr>\n",
       "      <th>...</th>\n",
       "      <td>...</td>\n",
       "      <td>...</td>\n",
       "      <td>...</td>\n",
       "    </tr>\n",
       "    <tr>\n",
       "      <th>391</th>\n",
       "      <td>Apple pie-1\\nBlueberry pie-1\\nPumpkin pie -1 (...</td>\n",
       "      <td>Apple pie- Blueberry pie- Pumpkin pie - (if  d...</td>\n",
       "      <td>apple pie blueberry pie pumpkin pie  if don’t ...</td>\n",
       "    </tr>\n",
       "    <tr>\n",
       "      <th>392</th>\n",
       "      <td>Ensaymada - Box $16\\nEmpanadas - 1 Dozen Chick...</td>\n",
       "      <td>Ensaymada - Box $ Empanadas - Dozen Chicken $</td>\n",
       "      <td>ensaymada  box  empanadas  dozen chicken</td>\n",
       "    </tr>\n",
       "    <tr>\n",
       "      <th>393</th>\n",
       "      <td>Half dozen Donuts \\nChocolate dipped, Vanilla ...</td>\n",
       "      <td>Half dozen Donuts Chocolate dipped, Vanilla di...</td>\n",
       "      <td>half dozen donut chocolate dipped vanilla dipp...</td>\n",
       "    </tr>\n",
       "    <tr>\n",
       "      <th>394</th>\n",
       "      <td>UBE &amp; CHEESE PANDESAL - 2 boxes of 6 pcs\\nEnsa...</td>\n",
       "      <td>UBE &amp; CHEESE PANDESAL - boxes of pcs Ensaymada...</td>\n",
       "      <td>ube  cheese pandesal  box pc ensaymada  half d...</td>\n",
       "    </tr>\n",
       "    <tr>\n",
       "      <th>395</th>\n",
       "      <td>Empanada:\\nPork (Dozen)\\nSpinach &amp; Cheese (Doz...</td>\n",
       "      <td>Empanada: Pork (Dozen) Spinach &amp; Cheese (Dozen...</td>\n",
       "      <td>empanada pork dozen spinach  cheese dozen pine...</td>\n",
       "    </tr>\n",
       "  </tbody>\n",
       "</table>\n",
       "<p>392 rows × 3 columns</p>\n",
       "</div>"
      ],
      "text/plain": [
       "                                                 order  \\\n",
       "0    1 dozen vanilla cupcakes (no sprinkle)\\n1 doze...   \n",
       "1    Can I please order 4 pizza doughs, 2 dozen cru...   \n",
       "2    I would like to order 12 spinach empanadas , a...   \n",
       "3    6 donuts - 2 Boston crème, 2 glaze, 2 vanilla ...   \n",
       "4    May I please have 4 pizza doughs, and 20 of yo...   \n",
       "..                                                 ...   \n",
       "391  Apple pie-1\\nBlueberry pie-1\\nPumpkin pie -1 (...   \n",
       "392  Ensaymada - Box $16\\nEmpanadas - 1 Dozen Chick...   \n",
       "393  Half dozen Donuts \\nChocolate dipped, Vanilla ...   \n",
       "394  UBE & CHEESE PANDESAL - 2 boxes of 6 pcs\\nEnsa...   \n",
       "395  Empanada:\\nPork (Dozen)\\nSpinach & Cheese (Doz...   \n",
       "\n",
       "                                            order_test  \\\n",
       "0     dozen vanilla cupcakes (no sprinkle) dozen va...   \n",
       "1    Can I please order pizza doughs, dozen crusty ...   \n",
       "2    I would like to order spinach empanadas , a do...   \n",
       "3     donuts - Boston crème, glaze, vanilla sprinkl...   \n",
       "4    May I please have pizza doughs, and of r tim b...   \n",
       "..                                                 ...   \n",
       "391  Apple pie- Blueberry pie- Pumpkin pie - (if  d...   \n",
       "392      Ensaymada - Box $ Empanadas - Dozen Chicken $   \n",
       "393  Half dozen Donuts Chocolate dipped, Vanilla di...   \n",
       "394  UBE & CHEESE PANDESAL - boxes of pcs Ensaymada...   \n",
       "395  Empanada: Pork (Dozen) Spinach & Cheese (Dozen...   \n",
       "\n",
       "                                           order_test2  \n",
       "0    dozen vanilla cupcake no sprinkle dozen vanill...  \n",
       "1    please order pizza doughs dozen crusty rolls f...  \n",
       "2    would like order spinach empanadas  dozen donu...  \n",
       "3    donut  boston crème glaze vanilla sprinkle if ...  \n",
       "4    may please pizza doughs r tim bit the powdered...  \n",
       "..                                                 ...  \n",
       "391  apple pie blueberry pie pumpkin pie  if don’t ...  \n",
       "392          ensaymada  box  empanadas  dozen chicken   \n",
       "393  half dozen donut chocolate dipped vanilla dipp...  \n",
       "394  ube  cheese pandesal  box pc ensaymada  half d...  \n",
       "395  empanada pork dozen spinach  cheese dozen pine...  \n",
       "\n",
       "[392 rows x 3 columns]"
      ]
     },
     "execution_count": 122,
     "metadata": {},
     "output_type": "execute_result"
    }
   ],
   "source": [
    "orders"
   ]
  },
  {
   "cell_type": "code",
   "execution_count": 123,
   "id": "8b91b123",
   "metadata": {},
   "outputs": [],
   "source": [
    "orders['order_test2'] = orders['order_test'].apply(lambda x: preprocess_text(x))"
   ]
  },
  {
   "cell_type": "code",
   "execution_count": 124,
   "id": "a12aa73e",
   "metadata": {},
   "outputs": [
    {
     "data": {
      "text/html": [
       "<div>\n",
       "<style scoped>\n",
       "    .dataframe tbody tr th:only-of-type {\n",
       "        vertical-align: middle;\n",
       "    }\n",
       "\n",
       "    .dataframe tbody tr th {\n",
       "        vertical-align: top;\n",
       "    }\n",
       "\n",
       "    .dataframe thead th {\n",
       "        text-align: right;\n",
       "    }\n",
       "</style>\n",
       "<table border=\"1\" class=\"dataframe\">\n",
       "  <thead>\n",
       "    <tr style=\"text-align: right;\">\n",
       "      <th></th>\n",
       "      <th>order</th>\n",
       "      <th>order_test</th>\n",
       "      <th>order_test2</th>\n",
       "    </tr>\n",
       "  </thead>\n",
       "  <tbody>\n",
       "    <tr>\n",
       "      <th>0</th>\n",
       "      <td>1 dozen vanilla cupcakes (no sprinkle)\\n1 doze...</td>\n",
       "      <td>dozen vanilla cupcakes (no sprinkle) dozen va...</td>\n",
       "      <td>dozen vanilla cupcake no sprinkle dozen vanill...</td>\n",
       "    </tr>\n",
       "    <tr>\n",
       "      <th>1</th>\n",
       "      <td>Can I please order 4 pizza doughs, 2 dozen cru...</td>\n",
       "      <td>Can I please order pizza doughs, dozen crusty ...</td>\n",
       "      <td>please order pizza doughs dozen crusty rolls f...</td>\n",
       "    </tr>\n",
       "    <tr>\n",
       "      <th>2</th>\n",
       "      <td>I would like to order 12 spinach empanadas , a...</td>\n",
       "      <td>I would like to order spinach empanadas , a do...</td>\n",
       "      <td>would like order spinach empanadas  dozen donu...</td>\n",
       "    </tr>\n",
       "    <tr>\n",
       "      <th>3</th>\n",
       "      <td>6 donuts - 2 Boston crème, 2 glaze, 2 vanilla ...</td>\n",
       "      <td>donuts - Boston crème, glaze, vanilla sprinkl...</td>\n",
       "      <td>donut  boston crème glaze vanilla sprinkle if ...</td>\n",
       "    </tr>\n",
       "    <tr>\n",
       "      <th>4</th>\n",
       "      <td>May I please have 4 pizza doughs, and 20 of yo...</td>\n",
       "      <td>May I please have pizza doughs, and of r tim b...</td>\n",
       "      <td>may please pizza doughs r tim bit the powdered...</td>\n",
       "    </tr>\n",
       "  </tbody>\n",
       "</table>\n",
       "</div>"
      ],
      "text/plain": [
       "                                               order  \\\n",
       "0  1 dozen vanilla cupcakes (no sprinkle)\\n1 doze...   \n",
       "1  Can I please order 4 pizza doughs, 2 dozen cru...   \n",
       "2  I would like to order 12 spinach empanadas , a...   \n",
       "3  6 donuts - 2 Boston crème, 2 glaze, 2 vanilla ...   \n",
       "4  May I please have 4 pizza doughs, and 20 of yo...   \n",
       "\n",
       "                                          order_test  \\\n",
       "0   dozen vanilla cupcakes (no sprinkle) dozen va...   \n",
       "1  Can I please order pizza doughs, dozen crusty ...   \n",
       "2  I would like to order spinach empanadas , a do...   \n",
       "3   donuts - Boston crème, glaze, vanilla sprinkl...   \n",
       "4  May I please have pizza doughs, and of r tim b...   \n",
       "\n",
       "                                         order_test2  \n",
       "0  dozen vanilla cupcake no sprinkle dozen vanill...  \n",
       "1  please order pizza doughs dozen crusty rolls f...  \n",
       "2  would like order spinach empanadas  dozen donu...  \n",
       "3  donut  boston crème glaze vanilla sprinkle if ...  \n",
       "4  may please pizza doughs r tim bit the powdered...  "
      ]
     },
     "execution_count": 124,
     "metadata": {},
     "output_type": "execute_result"
    }
   ],
   "source": [
    "orders.head()"
   ]
  },
  {
   "cell_type": "code",
   "execution_count": 125,
   "id": "5d0c16d3",
   "metadata": {},
   "outputs": [
    {
     "name": "stdout",
     "output_type": "stream",
     "text": [
      "donut  boston crème glaze vanilla sprinkle if boston crème sub chocolate dip hot dog bun whole wheat bread thank \n"
     ]
    }
   ],
   "source": [
    "print(orders['order_test2'][3])"
   ]
  },
  {
   "cell_type": "code",
   "execution_count": 73,
   "id": "5980dab4",
   "metadata": {},
   "outputs": [],
   "source": [
    "from sklearn.feature_extraction.text import CountVectorizer"
   ]
  },
  {
   "cell_type": "code",
   "execution_count": 110,
   "id": "9faad4d5",
   "metadata": {},
   "outputs": [],
   "source": [
    "cvec = CountVectorizer(ngram_range=(1,2), max_df=0.95, min_df=0.05)"
   ]
  },
  {
   "cell_type": "code",
   "execution_count": 111,
   "id": "675b2586",
   "metadata": {},
   "outputs": [],
   "source": [
    "word_count_vector = cvec.fit_transform(orders['order_test2'])"
   ]
  },
  {
   "cell_type": "code",
   "execution_count": 112,
   "id": "4a5766f9",
   "metadata": {},
   "outputs": [],
   "source": [
    "orders_wordcount = pd.DataFrame(word_count_vector.toarray())\n",
    "orders_wordcount.columns = cvec.get_feature_names_out()"
   ]
  },
  {
   "cell_type": "code",
   "execution_count": 113,
   "id": "7bf4cde6",
   "metadata": {},
   "outputs": [
    {
     "data": {
      "text/plain": [
       "(392, 86)"
      ]
     },
     "execution_count": 113,
     "metadata": {},
     "output_type": "execute_result"
    }
   ],
   "source": [
    "orders_wordcount.shape"
   ]
  },
  {
   "cell_type": "code",
   "execution_count": 114,
   "id": "8e8a42d9",
   "metadata": {},
   "outputs": [
    {
     "data": {
      "text/html": [
       "<div>\n",
       "<style scoped>\n",
       "    .dataframe tbody tr th:only-of-type {\n",
       "        vertical-align: middle;\n",
       "    }\n",
       "\n",
       "    .dataframe tbody tr th {\n",
       "        vertical-align: top;\n",
       "    }\n",
       "\n",
       "    .dataframe thead th {\n",
       "        text-align: right;\n",
       "    }\n",
       "</style>\n",
       "<table border=\"1\" class=\"dataframe\">\n",
       "  <thead>\n",
       "    <tr style=\"text-align: right;\">\n",
       "      <th></th>\n",
       "      <th>apple</th>\n",
       "      <th>asado</th>\n",
       "      <th>blueberry</th>\n",
       "      <th>boston</th>\n",
       "      <th>boston cream</th>\n",
       "      <th>box</th>\n",
       "      <th>bread</th>\n",
       "      <th>bun</th>\n",
       "      <th>butter</th>\n",
       "      <th>butter tart</th>\n",
       "      <th>...</th>\n",
       "      <th>sugar coated</th>\n",
       "      <th>tart</th>\n",
       "      <th>thank</th>\n",
       "      <th>thank you</th>\n",
       "      <th>twist</th>\n",
       "      <th>vanilla</th>\n",
       "      <th>vanilla dip</th>\n",
       "      <th>vanilla dipped</th>\n",
       "      <th>white</th>\n",
       "      <th>you</th>\n",
       "    </tr>\n",
       "  </thead>\n",
       "  <tbody>\n",
       "    <tr>\n",
       "      <th>0</th>\n",
       "      <td>0</td>\n",
       "      <td>0</td>\n",
       "      <td>0</td>\n",
       "      <td>0</td>\n",
       "      <td>0</td>\n",
       "      <td>0</td>\n",
       "      <td>0</td>\n",
       "      <td>0</td>\n",
       "      <td>0</td>\n",
       "      <td>0</td>\n",
       "      <td>...</td>\n",
       "      <td>0</td>\n",
       "      <td>0</td>\n",
       "      <td>0</td>\n",
       "      <td>0</td>\n",
       "      <td>0</td>\n",
       "      <td>2</td>\n",
       "      <td>0</td>\n",
       "      <td>0</td>\n",
       "      <td>0</td>\n",
       "      <td>0</td>\n",
       "    </tr>\n",
       "    <tr>\n",
       "      <th>1</th>\n",
       "      <td>0</td>\n",
       "      <td>0</td>\n",
       "      <td>0</td>\n",
       "      <td>1</td>\n",
       "      <td>1</td>\n",
       "      <td>0</td>\n",
       "      <td>0</td>\n",
       "      <td>0</td>\n",
       "      <td>0</td>\n",
       "      <td>0</td>\n",
       "      <td>...</td>\n",
       "      <td>0</td>\n",
       "      <td>0</td>\n",
       "      <td>0</td>\n",
       "      <td>0</td>\n",
       "      <td>0</td>\n",
       "      <td>0</td>\n",
       "      <td>0</td>\n",
       "      <td>0</td>\n",
       "      <td>0</td>\n",
       "      <td>0</td>\n",
       "    </tr>\n",
       "    <tr>\n",
       "      <th>2</th>\n",
       "      <td>0</td>\n",
       "      <td>0</td>\n",
       "      <td>0</td>\n",
       "      <td>1</td>\n",
       "      <td>1</td>\n",
       "      <td>0</td>\n",
       "      <td>2</td>\n",
       "      <td>0</td>\n",
       "      <td>0</td>\n",
       "      <td>0</td>\n",
       "      <td>...</td>\n",
       "      <td>0</td>\n",
       "      <td>0</td>\n",
       "      <td>0</td>\n",
       "      <td>0</td>\n",
       "      <td>0</td>\n",
       "      <td>0</td>\n",
       "      <td>0</td>\n",
       "      <td>0</td>\n",
       "      <td>2</td>\n",
       "      <td>0</td>\n",
       "    </tr>\n",
       "    <tr>\n",
       "      <th>3</th>\n",
       "      <td>0</td>\n",
       "      <td>0</td>\n",
       "      <td>0</td>\n",
       "      <td>2</td>\n",
       "      <td>0</td>\n",
       "      <td>0</td>\n",
       "      <td>1</td>\n",
       "      <td>1</td>\n",
       "      <td>0</td>\n",
       "      <td>0</td>\n",
       "      <td>...</td>\n",
       "      <td>0</td>\n",
       "      <td>0</td>\n",
       "      <td>1</td>\n",
       "      <td>1</td>\n",
       "      <td>0</td>\n",
       "      <td>1</td>\n",
       "      <td>0</td>\n",
       "      <td>0</td>\n",
       "      <td>0</td>\n",
       "      <td>1</td>\n",
       "    </tr>\n",
       "    <tr>\n",
       "      <th>4</th>\n",
       "      <td>0</td>\n",
       "      <td>0</td>\n",
       "      <td>0</td>\n",
       "      <td>0</td>\n",
       "      <td>0</td>\n",
       "      <td>0</td>\n",
       "      <td>0</td>\n",
       "      <td>0</td>\n",
       "      <td>0</td>\n",
       "      <td>0</td>\n",
       "      <td>...</td>\n",
       "      <td>0</td>\n",
       "      <td>0</td>\n",
       "      <td>0</td>\n",
       "      <td>0</td>\n",
       "      <td>0</td>\n",
       "      <td>0</td>\n",
       "      <td>0</td>\n",
       "      <td>0</td>\n",
       "      <td>0</td>\n",
       "      <td>0</td>\n",
       "    </tr>\n",
       "    <tr>\n",
       "      <th>...</th>\n",
       "      <td>...</td>\n",
       "      <td>...</td>\n",
       "      <td>...</td>\n",
       "      <td>...</td>\n",
       "      <td>...</td>\n",
       "      <td>...</td>\n",
       "      <td>...</td>\n",
       "      <td>...</td>\n",
       "      <td>...</td>\n",
       "      <td>...</td>\n",
       "      <td>...</td>\n",
       "      <td>...</td>\n",
       "      <td>...</td>\n",
       "      <td>...</td>\n",
       "      <td>...</td>\n",
       "      <td>...</td>\n",
       "      <td>...</td>\n",
       "      <td>...</td>\n",
       "      <td>...</td>\n",
       "      <td>...</td>\n",
       "      <td>...</td>\n",
       "    </tr>\n",
       "    <tr>\n",
       "      <th>387</th>\n",
       "      <td>1</td>\n",
       "      <td>0</td>\n",
       "      <td>1</td>\n",
       "      <td>0</td>\n",
       "      <td>0</td>\n",
       "      <td>0</td>\n",
       "      <td>0</td>\n",
       "      <td>0</td>\n",
       "      <td>0</td>\n",
       "      <td>0</td>\n",
       "      <td>...</td>\n",
       "      <td>0</td>\n",
       "      <td>0</td>\n",
       "      <td>0</td>\n",
       "      <td>0</td>\n",
       "      <td>0</td>\n",
       "      <td>0</td>\n",
       "      <td>0</td>\n",
       "      <td>0</td>\n",
       "      <td>0</td>\n",
       "      <td>0</td>\n",
       "    </tr>\n",
       "    <tr>\n",
       "      <th>388</th>\n",
       "      <td>0</td>\n",
       "      <td>0</td>\n",
       "      <td>0</td>\n",
       "      <td>0</td>\n",
       "      <td>0</td>\n",
       "      <td>1</td>\n",
       "      <td>0</td>\n",
       "      <td>0</td>\n",
       "      <td>0</td>\n",
       "      <td>0</td>\n",
       "      <td>...</td>\n",
       "      <td>0</td>\n",
       "      <td>0</td>\n",
       "      <td>0</td>\n",
       "      <td>0</td>\n",
       "      <td>0</td>\n",
       "      <td>0</td>\n",
       "      <td>0</td>\n",
       "      <td>0</td>\n",
       "      <td>0</td>\n",
       "      <td>0</td>\n",
       "    </tr>\n",
       "    <tr>\n",
       "      <th>389</th>\n",
       "      <td>0</td>\n",
       "      <td>0</td>\n",
       "      <td>0</td>\n",
       "      <td>0</td>\n",
       "      <td>0</td>\n",
       "      <td>0</td>\n",
       "      <td>0</td>\n",
       "      <td>0</td>\n",
       "      <td>0</td>\n",
       "      <td>0</td>\n",
       "      <td>...</td>\n",
       "      <td>0</td>\n",
       "      <td>0</td>\n",
       "      <td>0</td>\n",
       "      <td>0</td>\n",
       "      <td>1</td>\n",
       "      <td>1</td>\n",
       "      <td>0</td>\n",
       "      <td>1</td>\n",
       "      <td>0</td>\n",
       "      <td>0</td>\n",
       "    </tr>\n",
       "    <tr>\n",
       "      <th>390</th>\n",
       "      <td>0</td>\n",
       "      <td>0</td>\n",
       "      <td>0</td>\n",
       "      <td>0</td>\n",
       "      <td>0</td>\n",
       "      <td>1</td>\n",
       "      <td>0</td>\n",
       "      <td>0</td>\n",
       "      <td>0</td>\n",
       "      <td>0</td>\n",
       "      <td>...</td>\n",
       "      <td>0</td>\n",
       "      <td>0</td>\n",
       "      <td>0</td>\n",
       "      <td>0</td>\n",
       "      <td>0</td>\n",
       "      <td>0</td>\n",
       "      <td>0</td>\n",
       "      <td>0</td>\n",
       "      <td>0</td>\n",
       "      <td>0</td>\n",
       "    </tr>\n",
       "    <tr>\n",
       "      <th>391</th>\n",
       "      <td>0</td>\n",
       "      <td>0</td>\n",
       "      <td>0</td>\n",
       "      <td>0</td>\n",
       "      <td>0</td>\n",
       "      <td>0</td>\n",
       "      <td>1</td>\n",
       "      <td>0</td>\n",
       "      <td>2</td>\n",
       "      <td>2</td>\n",
       "      <td>...</td>\n",
       "      <td>0</td>\n",
       "      <td>3</td>\n",
       "      <td>0</td>\n",
       "      <td>0</td>\n",
       "      <td>0</td>\n",
       "      <td>0</td>\n",
       "      <td>0</td>\n",
       "      <td>0</td>\n",
       "      <td>0</td>\n",
       "      <td>0</td>\n",
       "    </tr>\n",
       "  </tbody>\n",
       "</table>\n",
       "<p>392 rows × 86 columns</p>\n",
       "</div>"
      ],
      "text/plain": [
       "     apple  asado  blueberry  boston  boston cream  box  bread  bun  butter  \\\n",
       "0        0      0          0       0             0    0      0    0       0   \n",
       "1        0      0          0       1             1    0      0    0       0   \n",
       "2        0      0          0       1             1    0      2    0       0   \n",
       "3        0      0          0       2             0    0      1    1       0   \n",
       "4        0      0          0       0             0    0      0    0       0   \n",
       "..     ...    ...        ...     ...           ...  ...    ...  ...     ...   \n",
       "387      1      0          1       0             0    0      0    0       0   \n",
       "388      0      0          0       0             0    1      0    0       0   \n",
       "389      0      0          0       0             0    0      0    0       0   \n",
       "390      0      0          0       0             0    1      0    0       0   \n",
       "391      0      0          0       0             0    0      1    0       2   \n",
       "\n",
       "     butter tart  ...  sugar coated  tart  thank  thank you  twist  vanilla  \\\n",
       "0              0  ...             0     0      0          0      0        2   \n",
       "1              0  ...             0     0      0          0      0        0   \n",
       "2              0  ...             0     0      0          0      0        0   \n",
       "3              0  ...             0     0      1          1      0        1   \n",
       "4              0  ...             0     0      0          0      0        0   \n",
       "..           ...  ...           ...   ...    ...        ...    ...      ...   \n",
       "387            0  ...             0     0      0          0      0        0   \n",
       "388            0  ...             0     0      0          0      0        0   \n",
       "389            0  ...             0     0      0          0      1        1   \n",
       "390            0  ...             0     0      0          0      0        0   \n",
       "391            2  ...             0     3      0          0      0        0   \n",
       "\n",
       "     vanilla dip  vanilla dipped  white  you  \n",
       "0              0               0      0    0  \n",
       "1              0               0      0    0  \n",
       "2              0               0      2    0  \n",
       "3              0               0      0    1  \n",
       "4              0               0      0    0  \n",
       "..           ...             ...    ...  ...  \n",
       "387            0               0      0    0  \n",
       "388            0               0      0    0  \n",
       "389            0               1      0    0  \n",
       "390            0               0      0    0  \n",
       "391            0               0      0    0  \n",
       "\n",
       "[392 rows x 86 columns]"
      ]
     },
     "execution_count": 114,
     "metadata": {},
     "output_type": "execute_result"
    }
   ],
   "source": [
    "orders_wordcount"
   ]
  },
  {
   "cell_type": "code",
   "execution_count": 115,
   "id": "3bcee6d7",
   "metadata": {},
   "outputs": [
    {
     "data": {
      "text/plain": [
       "Index(['apple', 'asado', 'blueberry', 'boston', 'boston cream', 'box', 'bread',\n",
       "       'bun', 'butter', 'butter tart', 'cheese', 'cherry', 'chicken',\n",
       "       'chicken empanada', 'chicken empanadas', 'chip', 'chocolate',\n",
       "       'chocolate chip', 'chocolate dip', 'chocolate dipped', 'cinnamon',\n",
       "       'cinnamon twist', 'coated', 'cream', 'croissant', 'cupcake', 'danish',\n",
       "       'dip', 'dipped', 'dipped plain', 'dipped sprinkled', 'donut',\n",
       "       'donut dozen', 'donut half', 'dough', 'dozen', 'dozen chicken',\n",
       "       'dozen chocolate', 'dozen donut', 'dozen pork', 'dozen spinach',\n",
       "       'dutchie', 'empanada', 'empanadas', 'empanadas dozen', 'ensaymada',\n",
       "       'filled', 'glazed', 'half', 'half dozen', 'honey', 'honey glazed',\n",
       "       'hot', 'jelly', 'jelly filled', 'lemon', 'loaf', 'maple', 'muffin',\n",
       "       'one', 'order', 'pandesal', 'pie', 'plain', 'please', 'pork',\n",
       "       'pork empanadas', 'raisin', 'sliced', 'spinach', 'spinach cheese',\n",
       "       'sprinkle', 'sprinkled', 'sprinkles', 'strawberry', 'sugar',\n",
       "       'sugar coated', 'tart', 'thank', 'thank you', 'twist', 'vanilla',\n",
       "       'vanilla dip', 'vanilla dipped', 'white', 'you'],\n",
       "      dtype='object')"
      ]
     },
     "execution_count": 115,
     "metadata": {},
     "output_type": "execute_result"
    }
   ],
   "source": [
    "orders_wordcount.columns"
   ]
  },
  {
   "cell_type": "code",
   "execution_count": 20,
   "id": "1e8294d4",
   "metadata": {},
   "outputs": [],
   "source": [
    "# pu_time[pu_time['clean1'].str.contains('AM')]"
   ]
  },
  {
   "cell_type": "code",
   "execution_count": 75,
   "id": "b8551d94",
   "metadata": {},
   "outputs": [],
   "source": [
    "# pub.groupby(['order_date'])['order_date'].count().sort_values()\n",
    "# for seeing what dates have the most orders "
   ]
  },
  {
   "cell_type": "code",
   "execution_count": 95,
   "id": "9ca945e5",
   "metadata": {},
   "outputs": [],
   "source": [
    "# pub[pub['pick up time'].str.contains('AM|PM')==True]\n",
    "# pub[pub['pick up time'].str.contains('null')==True]\n",
    "\n",
    "# pub[(pub['order_year']==2022) & (pub['pick up time'].str.contains('PM')==True)]"
   ]
  },
  {
   "cell_type": "code",
   "execution_count": 9,
   "id": "7658034e-d1b6-4711-9f44-e38fd2a91508",
   "metadata": {},
   "outputs": [],
   "source": [
    "#pub2ampm = pd.to_datetime(pub2[pub2['Pick Up Time'].str.contains('PM')], format = '%H:%M:%S %p')\n",
    "pub2['pickup_time']=pd.to_datetime(pub2['Pick Up Time'],infer_datetime_format=True, errors='coerce')\n",
    "pub2na=pub2[pub2['pickup_time'].isna()]\n",
    "pub2nadt=pd.to_datetime(pub2na['Pick Up Time'], format = '%H:%M:%S %p')\n",
    "pub2['pickup_time']=pub2['pickup_time'].fillna(pub2nadt)"
   ]
  },
  {
   "cell_type": "code",
   "execution_count": 10,
   "id": "c097bb13-6693-4ac4-9fce-43aa65dd5c0c",
   "metadata": {},
   "outputs": [],
   "source": [
    "#Combines date and times to one datetime value\n",
    "pub2['pickup_date']=pub2['pickup_date'].astype(str)\n",
    "pub2['pickup_time']=pub2['pickup_time'].dt.time.astype(str)\n",
    "pub2['pickup_datetime']=pd.to_datetime(pub2['pickup_date'] + ' ' + pub2['pickup_time'])"
   ]
  },
  {
   "cell_type": "code",
   "execution_count": 11,
   "id": "b3e4e859-5c0e-466f-844d-7520649a866b",
   "metadata": {},
   "outputs": [],
   "source": [
    "#Chooses times that are before 6am and adds 12 hours to be 24H clock\n",
    "beforeopen=pub2['pickup_datetime'].dt.hour < 6\n",
    "pub2.loc[beforeopen, 'pickup_datetime'] = pub2['pickup_datetime'] + timedelta(hours=12)"
   ]
  },
  {
   "cell_type": "code",
   "execution_count": 18,
   "id": "daa9165a-c873-45ab-8365-9b6fb9c05d93",
   "metadata": {},
   "outputs": [],
   "source": [
    "#Separates date and times\n",
    "pub2['pickup_date']=pub2['pickup_datetime'].dt.date\n",
    "pub2['pickup_time']=pub2['pickup_datetime'].dt.time\n",
    "pickuphour=pub2['pickup_datetime'].dt.hour\n",
    "pickupday=pub2['pickup_datetime'].dt.strftime('%A')\n",
    "pickupmonth=pub2['pickup_datetime'].dt.month"
   ]
  },
  {
   "cell_type": "code",
   "execution_count": 29,
   "id": "126f7b9b",
   "metadata": {},
   "outputs": [
    {
     "data": {
      "text/plain": [
       "<AxesSubplot:xlabel='pickup_datetime', ylabel='Count'>"
      ]
     },
     "execution_count": 29,
     "metadata": {},
     "output_type": "execute_result"
    },
    {
     "data": {
      "image/png": "[encoded data removed]",
      "text/plain": [
       "<Figure size 1440x360 with 3 Axes>"
      ]
     },
     "metadata": {
      "needs_background": "light"
     },
     "output_type": "display_data"
    }
   ],
   "source": [
    "fig, ax = plt.subplots(1,3, figsize=(20,5))\n",
    "sns.histplot(pickuphour, ax=ax[0], bins=8)\n",
    "sns.histplot(pickupday, ax=ax[1])\n",
    "sns.histplot(pickupmonth, ax=ax[2], bins=12)"
   ]
  },
  {
   "cell_type": "code",
   "execution_count": null,
   "id": "0ca604b8",
   "metadata": {},
   "outputs": [],
   "source": []
  }
 ],
 "metadata": {
  "kernelspec": {
   "display_name": "lhl_env38",
   "language": "python",
   "name": "lhl_env38"
  },
  "language_info": {
   "codemirror_mode": {
    "name": "ipython",
    "version": 3
   },
   "file_extension": ".py",
   "mimetype": "text/x-python",
   "name": "python",
   "nbconvert_exporter": "python",
   "pygments_lexer": "ipython3",
   "version": "3.8.13"
  }
 },
 "nbformat": 4,
 "nbformat_minor": 5
}
