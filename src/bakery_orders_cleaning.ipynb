{
 "cells": [
  {
   "cell_type": "code",
   "execution_count": 76,
   "id": "19bd896c-3ba0-4e44-bc20-52165e6410b7",
   "metadata": {},
   "outputs": [],
   "source": [
    "import pandas as pd\n",
    "from datetime import datetime as dt\n",
    "from datetime import timedelta\n",
    "import seaborn as sns\n",
    "import matplotlib.pyplot as plt\n",
    "import numpy as np\n",
    "import regex as re\n",
    "\n",
    "from utils import *\n",
    "\n",
    "from sklearn.preprocessing import MultiLabelBinarizer\n",
    "mlb = MultiLabelBinarizer()\n",
    "\n",
    "import warnings \n",
    "warnings.simplefilter(action='ignore', category=FutureWarning)\n",
    "pd.set_option('display.max_colwidth', 100)"
   ]
  },
  {
   "cell_type": "code",
   "execution_count": 77,
   "id": "3e1646ed",
   "metadata": {},
   "outputs": [],
   "source": [
    "pub_raw = pd.read_excel('../../raw_data/Bakery Orders.xlsx')"
   ]
  },
  {
   "attachments": {},
   "cell_type": "markdown",
   "id": "cd626770",
   "metadata": {},
   "source": [
    "### Importing data and quick processing"
   ]
  },
  {
   "cell_type": "code",
   "execution_count": 78,
   "id": "cf0dd7a1",
   "metadata": {},
   "outputs": [],
   "source": [
    "pub_private = pub_raw[['Submitted On', 'Pick Up Date', 'Pick Up Time',\n",
    "            'What would you like to order']]"
   ]
  },
  {
   "cell_type": "code",
   "execution_count": 79,
   "id": "cf412a7e",
   "metadata": {},
   "outputs": [],
   "source": [
    "# reset the index and copy\n",
    "pub = pub_private.reset_index(drop = True).copy(deep=True)\n",
    "\n",
    "# lower the column names\n",
    "pub.columns = pub.columns.str.lower()\n",
    "\n",
    "# remove duplicates from dataset and reset the index\n",
    "pub = pub.drop_duplicates(subset='what would you like to order', keep='first')\n",
    "pub = pub.reset_index(drop=True)"
   ]
  },
  {
   "cell_type": "code",
   "execution_count": 80,
   "id": "2f877ee1",
   "metadata": {},
   "outputs": [
    {
     "data": {
      "text/html": [
       "<div>\n",
       "<style scoped>\n",
       "    .dataframe tbody tr th:only-of-type {\n",
       "        vertical-align: middle;\n",
       "    }\n",
       "\n",
       "    .dataframe tbody tr th {\n",
       "        vertical-align: top;\n",
       "    }\n",
       "\n",
       "    .dataframe thead th {\n",
       "        text-align: right;\n",
       "    }\n",
       "</style>\n",
       "<table border=\"1\" class=\"dataframe\">\n",
       "  <thead>\n",
       "    <tr style=\"text-align: right;\">\n",
       "      <th></th>\n",
       "      <th>submitted on</th>\n",
       "      <th>pick up date</th>\n",
       "      <th>pick up time</th>\n",
       "      <th>what would you like to order</th>\n",
       "    </tr>\n",
       "  </thead>\n",
       "  <tbody>\n",
       "    <tr>\n",
       "      <th>0</th>\n",
       "      <td>2020-03-11 23:42:39</td>\n",
       "      <td>2020-03-13 00:00:00</td>\n",
       "      <td>16:30:00</td>\n",
       "      <td>1 dozen vanilla cupcakes (no sprinkle)\\n1 dozen vanilla donuts (no sprinkle)</td>\n",
       "    </tr>\n",
       "    <tr>\n",
       "      <th>1</th>\n",
       "      <td>2020-03-29 12:59:28</td>\n",
       "      <td>2020-03-31 00:00:00</td>\n",
       "      <td>10:00:00</td>\n",
       "      <td>Can I please order 4 pizza doughs, 2 dozen crusty rolls, 4 french sticks, 2 boston cream donuts</td>\n",
       "    </tr>\n",
       "    <tr>\n",
       "      <th>2</th>\n",
       "      <td>2020-03-30 14:08:35</td>\n",
       "      <td>2020-04-01 00:00:00</td>\n",
       "      <td>09:00:00</td>\n",
       "      <td>I would like to order 12 spinach empanadas , a dozen donuts 4 white, 4 maple and 4 boston cream,...</td>\n",
       "    </tr>\n",
       "    <tr>\n",
       "      <th>3</th>\n",
       "      <td>2020-03-30 20:50:05</td>\n",
       "      <td>2020-04-03 00:00:00</td>\n",
       "      <td>11:00:00</td>\n",
       "      <td>6 donuts - 2 Boston crème, 2 glaze, 2 vanilla sprinkle (if no Boston crème sub with chocolate di...</td>\n",
       "    </tr>\n",
       "    <tr>\n",
       "      <th>4</th>\n",
       "      <td>2020-03-31 20:04:17</td>\n",
       "      <td>2020-04-03 00:00:00</td>\n",
       "      <td>13:00:00</td>\n",
       "      <td>May I please have 4 pizza doughs, and 20 of your tim bits (the powdered ones, glazed and chocola...</td>\n",
       "    </tr>\n",
       "  </tbody>\n",
       "</table>\n",
       "</div>"
      ],
      "text/plain": [
       "          submitted on         pick up date pick up time  \\\n",
       "0  2020-03-11 23:42:39  2020-03-13 00:00:00     16:30:00   \n",
       "1  2020-03-29 12:59:28  2020-03-31 00:00:00     10:00:00   \n",
       "2  2020-03-30 14:08:35  2020-04-01 00:00:00     09:00:00   \n",
       "3  2020-03-30 20:50:05  2020-04-03 00:00:00     11:00:00   \n",
       "4  2020-03-31 20:04:17  2020-04-03 00:00:00     13:00:00   \n",
       "\n",
       "                                                                          what would you like to order  \n",
       "0                         1 dozen vanilla cupcakes (no sprinkle)\\n1 dozen vanilla donuts (no sprinkle)  \n",
       "1      Can I please order 4 pizza doughs, 2 dozen crusty rolls, 4 french sticks, 2 boston cream donuts  \n",
       "2  I would like to order 12 spinach empanadas , a dozen donuts 4 white, 4 maple and 4 boston cream,...  \n",
       "3  6 donuts - 2 Boston crème, 2 glaze, 2 vanilla sprinkle (if no Boston crème sub with chocolate di...  \n",
       "4  May I please have 4 pizza doughs, and 20 of your tim bits (the powdered ones, glazed and chocola...  "
      ]
     },
     "execution_count": 80,
     "metadata": {},
     "output_type": "execute_result"
    }
   ],
   "source": [
    "pub.head()"
   ]
  },
  {
   "cell_type": "markdown",
   "id": "9bd62d69",
   "metadata": {},
   "source": [
    "### Cleaning dates"
   ]
  },
  {
   "cell_type": "code",
   "execution_count": 81,
   "id": "ea4b12f9-ca33-4b9a-8896-8ad66f7c7f85",
   "metadata": {},
   "outputs": [],
   "source": [
    "# convert order dates to date times and separate by date, month, year, time\n",
    "pub['submitted on']=pd.to_datetime(pub['submitted on'], dayfirst=False)\n",
    "\n",
    "pub['order_date']=pd.to_datetime(pub['submitted on']).dt.date\n",
    "pub['order_year']=pd.to_datetime(pub['submitted on']).dt.year\n",
    "pub['order_month']=pd.to_datetime(pub['submitted on']).dt.month_name()\n",
    "pub['order_time']=pd.to_datetime(pub['submitted on']).dt.time\n",
    "pub['order_day']=pd.to_datetime(pub['submitted on']).dt.day_name()"
   ]
  },
  {
   "cell_type": "code",
   "execution_count": 82,
   "id": "35217538",
   "metadata": {},
   "outputs": [],
   "source": [
    "# converting pick up date to time \n",
    "pub['pu_date'] = pd.to_datetime(pub['pick up date'], dayfirst=False)\n",
    "pub['pu_month_name']=pd.to_datetime(pub['pu_date']).dt.month_name()\n",
    "pub['pu_month']=pd.to_datetime(pub['pu_date']).dt.strftime('%m')\n",
    "pub['pu_day_name']=pd.to_datetime(pub['pu_date']).dt.day_name()\n",
    "pub['pu_day']=pd.to_datetime(pub['pu_date']).dt.strftime('%d')"
   ]
  },
  {
   "cell_type": "code",
   "execution_count": 83,
   "id": "7515b054",
   "metadata": {},
   "outputs": [],
   "source": [
    "# create new clean pick up dates because some were inputted wrong (e.g. before 2020)\n",
    "# take year from squarespace \n",
    "pub['pu_date_clean']=pub[['order_year','pu_month','pu_day']].apply(lambda x: '-'.join(x.astype(str)), axis=1)\n",
    "# conver to datetime\n",
    "pub['pu_date_clean'] = pd.to_datetime(pub['pu_date_clean']).dt.date"
   ]
  },
  {
   "cell_type": "code",
   "execution_count": 84,
   "id": "54384afa",
   "metadata": {},
   "outputs": [],
   "source": [
    "# calculate days between order and pick up \n",
    "pub['order_pu_diff'] = (pub['pu_date_clean'] - pub['order_date']).dt.days"
   ]
  },
  {
   "cell_type": "markdown",
   "id": "a0eac0d5",
   "metadata": {},
   "source": [
    "### Cleaning times"
   ]
  },
  {
   "cell_type": "code",
   "execution_count": 85,
   "id": "0c8b8668",
   "metadata": {},
   "outputs": [],
   "source": [
    "# change pick up time to string for cleaning\n",
    "pub['pick up time'] = pub['pick up time'].astype(str)\n",
    "\n",
    "# replace singular 0 to double 0s\n",
    "pub['pick up time'] = pub['pick up time'].str.replace(r\"\\b(0)\\b\", \"00\", regex=True)\n",
    "\n",
    "# convert pick up time to datetime format\n",
    "pub['pu_time'] = pd.to_datetime(pub['pick up time'], infer_datetime_format=True, errors='coerce').dt.time"
   ]
  },
  {
   "cell_type": "code",
   "execution_count": 86,
   "id": "7c74094c",
   "metadata": {},
   "outputs": [],
   "source": [
    "# convert remaining missings with wrong format (mixed 24H with AM/PM)\n",
    "pub_na_pu_time = pub[pub['pu_time'].isna()]\n",
    "# fill missing with AM/PM\n",
    "pub['pu_time'] = pub['pu_time'].fillna(pd.to_datetime(pub_na_pu_time['pick up time'], format = '%H:%M:%S %p').dt.time)"
   ]
  },
  {
   "cell_type": "code",
   "execution_count": 87,
   "id": "d7d3aa47",
   "metadata": {},
   "outputs": [],
   "source": [
    "# get pick up hour only, round to lower hour\n",
    "pub['pu_hour'] = pd.to_datetime(pub['pu_time'], format='%H:%M:%S').dt.hour"
   ]
  },
  {
   "cell_type": "code",
   "execution_count": 88,
   "id": "e5e7706e",
   "metadata": {},
   "outputs": [],
   "source": [
    "# fix pick up hours that are inputted wrong outside of opening hours\n",
    "pub['pu_hour_clean'] = pub['pu_hour'].apply(open_hour_fix)"
   ]
  },
  {
   "cell_type": "code",
   "execution_count": 89,
   "id": "7cea44ac",
   "metadata": {},
   "outputs": [],
   "source": [
    "# revert pick up hour back to time format\n",
    "pub['pu_hour_dt'] = pd.to_datetime(pub['pu_hour_clean'], format='%H').dt.strftime('%H:%M')"
   ]
  },
  {
   "cell_type": "markdown",
   "id": "684702ec",
   "metadata": {},
   "source": [
    "### Finalizing columns for export"
   ]
  },
  {
   "cell_type": "code",
   "execution_count": 90,
   "id": "392c3118",
   "metadata": {},
   "outputs": [],
   "source": [
    "# keep: pu_date, order_year, pu_month, pu_day, pu_hour_dt\n",
    "pub_clean = pub[['pu_date_clean', 'order_year', 'pu_month', 'pu_month_name', 'pu_day', 'pu_day_name', 'pu_hour_dt', 'order_pu_diff']]"
   ]
  },
  {
   "cell_type": "code",
   "execution_count": 91,
   "id": "c24b38a4",
   "metadata": {},
   "outputs": [],
   "source": [
    "pub_clean = pub_clean.rename(columns={\n",
    "    'pu_date_clean':'pu_date', \n",
    "    'pu_month':'order_month', \n",
    "    'pu_month_name':'order_month_name', \n",
    "    'pu_hour_dt':'pu_hour'\n",
    "    })"
   ]
  },
  {
   "cell_type": "code",
   "execution_count": 92,
   "id": "fe59d942",
   "metadata": {},
   "outputs": [
    {
     "data": {
      "text/html": [
       "<div>\n",
       "<style scoped>\n",
       "    .dataframe tbody tr th:only-of-type {\n",
       "        vertical-align: middle;\n",
       "    }\n",
       "\n",
       "    .dataframe tbody tr th {\n",
       "        vertical-align: top;\n",
       "    }\n",
       "\n",
       "    .dataframe thead th {\n",
       "        text-align: right;\n",
       "    }\n",
       "</style>\n",
       "<table border=\"1\" class=\"dataframe\">\n",
       "  <thead>\n",
       "    <tr style=\"text-align: right;\">\n",
       "      <th></th>\n",
       "      <th>pu_date</th>\n",
       "      <th>order_year</th>\n",
       "      <th>order_month</th>\n",
       "      <th>order_month_name</th>\n",
       "      <th>pu_day</th>\n",
       "      <th>pu_day_name</th>\n",
       "      <th>pu_hour</th>\n",
       "      <th>order_pu_diff</th>\n",
       "    </tr>\n",
       "  </thead>\n",
       "  <tbody>\n",
       "    <tr>\n",
       "      <th>0</th>\n",
       "      <td>2020-03-13</td>\n",
       "      <td>2020</td>\n",
       "      <td>03</td>\n",
       "      <td>March</td>\n",
       "      <td>13</td>\n",
       "      <td>Friday</td>\n",
       "      <td>16:00</td>\n",
       "      <td>2</td>\n",
       "    </tr>\n",
       "    <tr>\n",
       "      <th>1</th>\n",
       "      <td>2020-03-31</td>\n",
       "      <td>2020</td>\n",
       "      <td>03</td>\n",
       "      <td>March</td>\n",
       "      <td>31</td>\n",
       "      <td>Tuesday</td>\n",
       "      <td>10:00</td>\n",
       "      <td>2</td>\n",
       "    </tr>\n",
       "    <tr>\n",
       "      <th>2</th>\n",
       "      <td>2020-04-01</td>\n",
       "      <td>2020</td>\n",
       "      <td>04</td>\n",
       "      <td>April</td>\n",
       "      <td>01</td>\n",
       "      <td>Wednesday</td>\n",
       "      <td>09:00</td>\n",
       "      <td>2</td>\n",
       "    </tr>\n",
       "    <tr>\n",
       "      <th>3</th>\n",
       "      <td>2020-04-03</td>\n",
       "      <td>2020</td>\n",
       "      <td>04</td>\n",
       "      <td>April</td>\n",
       "      <td>03</td>\n",
       "      <td>Friday</td>\n",
       "      <td>11:00</td>\n",
       "      <td>4</td>\n",
       "    </tr>\n",
       "    <tr>\n",
       "      <th>4</th>\n",
       "      <td>2020-04-03</td>\n",
       "      <td>2020</td>\n",
       "      <td>04</td>\n",
       "      <td>April</td>\n",
       "      <td>03</td>\n",
       "      <td>Friday</td>\n",
       "      <td>13:00</td>\n",
       "      <td>3</td>\n",
       "    </tr>\n",
       "  </tbody>\n",
       "</table>\n",
       "</div>"
      ],
      "text/plain": [
       "      pu_date  order_year order_month order_month_name pu_day pu_day_name  \\\n",
       "0  2020-03-13        2020          03            March     13      Friday   \n",
       "1  2020-03-31        2020          03            March     31     Tuesday   \n",
       "2  2020-04-01        2020          04            April     01   Wednesday   \n",
       "3  2020-04-03        2020          04            April     03      Friday   \n",
       "4  2020-04-03        2020          04            April     03      Friday   \n",
       "\n",
       "  pu_hour  order_pu_diff  \n",
       "0   16:00              2  \n",
       "1   10:00              2  \n",
       "2   09:00              2  \n",
       "3   11:00              4  \n",
       "4   13:00              3  "
      ]
     },
     "execution_count": 92,
     "metadata": {},
     "output_type": "execute_result"
    }
   ],
   "source": [
    "pub_clean.head()"
   ]
  },
  {
   "cell_type": "code",
   "execution_count": 93,
   "id": "3e18b7c2",
   "metadata": {},
   "outputs": [
    {
     "data": {
      "text/plain": [
       "<AxesSubplot:xlabel='count', ylabel='pu_hour'>"
      ]
     },
     "execution_count": 93,
     "metadata": {},
     "output_type": "execute_result"
    },
    {
     "data": {
      "image/png": "[encoded data removed]",
      "text/plain": [
       "<Figure size 720x576 with 4 Axes>"
      ]
     },
     "metadata": {
      "needs_background": "light"
     },
     "output_type": "display_data"
    }
   ],
   "source": [
    "# exploratory plots\n",
    "day_order = ['Sunday', 'Monday', 'Tuesday', 'Wednesday', 'Thursday', 'Friday', 'Saturday']\n",
    "\n",
    "month_order = ['January', 'February', 'March', 'April', 'May', 'June',\n",
    "               'July', 'August', 'September', 'October', 'November', 'December']\n",
    "\n",
    "open_hours = sorted(list(pub_clean['pu_hour'].astype(str).unique()))\n",
    "\n",
    "fig, axs = plt.subplots(2,2,figsize=(10,8), constrained_layout=True)\n",
    "\n",
    "sns.countplot(y= pub_clean['order_year'], ax=axs[0,0])\n",
    "\n",
    "sns.countplot(y= pub_clean['order_month_name'], order=month_order, ax=axs[0,1])\n",
    "\n",
    "sns.countplot(y= pub_clean['pu_day_name'], order=day_order, ax=axs[1,0])\n",
    "\n",
    "sns.countplot(y= pub_clean['pu_hour'], order=open_hours, ax=axs[1,1])"
   ]
  },
  {
   "cell_type": "code",
   "execution_count": 22,
   "id": "edecd767",
   "metadata": {},
   "outputs": [],
   "source": [
    "pub_clean.to_excel('../data/' + 'bakery_orders_clean.xlsx')"
   ]
  },
  {
   "attachments": {},
   "cell_type": "markdown",
   "id": "faebfbcd",
   "metadata": {},
   "source": [
    "### Cleaning up orders text"
   ]
  },
  {
   "cell_type": "code",
   "execution_count": 94,
   "id": "8ac9e052",
   "metadata": {},
   "outputs": [],
   "source": [
    "orders = pub[['what would you like to order']]"
   ]
  },
  {
   "cell_type": "code",
   "execution_count": 95,
   "id": "0a2d8cee",
   "metadata": {},
   "outputs": [],
   "source": [
    "orders = orders.rename(columns={'what would you like to order': 'order'})\n",
    "\n",
    "# ensure string format\n",
    "orders['order'] = orders['order'].astype(str)"
   ]
  },
  {
   "cell_type": "code",
   "execution_count": 96,
   "id": "8b91b123",
   "metadata": {},
   "outputs": [],
   "source": [
    "# apply text preprocessing to remove spelling mistakes, plurals, stop words etc. \n",
    "orders['order_clean'] = orders['order'].apply(lambda x: preprocess_text(x))"
   ]
  },
  {
   "cell_type": "code",
   "execution_count": 97,
   "id": "86222950",
   "metadata": {},
   "outputs": [],
   "source": [
    "# known bakery items\n",
    "bakery_items = [\n",
    "    'donut',    'ensaymada',    'empanada',\n",
    "    'pandesal', 'bun',          'bread', \n",
    "    'roll',     'cookie',       'cupcake',  \n",
    "    'muffin',   'biscuit',      'pineapple tart', \n",
    "    'pie',      'butter tart',  'croissant', \n",
    "    'bagel',    'asado',        'pizza',     \n",
    "    'danish',   'dutchie',      'cake'\n",
    "]"
   ]
  },
  {
   "cell_type": "code",
   "execution_count": 98,
   "id": "470b68dc",
   "metadata": {},
   "outputs": [],
   "source": [
    "# go through orders to see any matches with known bakery items, and create a list\n",
    "for idx, order in orders.iterrows():\n",
    "    order = order['order_clean']\n",
    "    item_matches=[]\n",
    "    for item in bakery_items:\n",
    "        pattern = rf\"\\b{item}\\b\"\n",
    "        matches = re.search(pattern, order)\n",
    "        if type(matches) != type(None):\n",
    "            match_list = matches.group()\n",
    "            item_matches.append(match_list)\n",
    "        else:\n",
    "            pass\n",
    "    orders.loc[idx, 'order_list'] = ','.join(item_matches)"
   ]
  },
  {
   "cell_type": "code",
   "execution_count": 99,
   "id": "b30159ce",
   "metadata": {},
   "outputs": [],
   "source": [
    "# transform to list \n",
    "orders['order_list_type'] = orders['order_list'].str.split(',')"
   ]
  },
  {
   "cell_type": "code",
   "execution_count": 100,
   "id": "05a78049",
   "metadata": {},
   "outputs": [],
   "source": [
    "# create one hot encoding for bakery items within each order\n",
    "orders_ohe = orders.join(pd.DataFrame(mlb.fit_transform(orders['order_list_type']), columns=mlb.classes_, index=orders.index))"
   ]
  },
  {
   "cell_type": "code",
   "execution_count": 101,
   "id": "01b2c8a1",
   "metadata": {},
   "outputs": [],
   "source": [
    "# join with clean data\n",
    "pub_order_clean = pub_clean.join(orders_ohe[bakery_items])"
   ]
  },
  {
   "cell_type": "code",
   "execution_count": 102,
   "id": "71a06de5",
   "metadata": {},
   "outputs": [
    {
     "data": {
      "text/html": [
       "<div>\n",
       "<style scoped>\n",
       "    .dataframe tbody tr th:only-of-type {\n",
       "        vertical-align: middle;\n",
       "    }\n",
       "\n",
       "    .dataframe tbody tr th {\n",
       "        vertical-align: top;\n",
       "    }\n",
       "\n",
       "    .dataframe thead th {\n",
       "        text-align: right;\n",
       "    }\n",
       "</style>\n",
       "<table border=\"1\" class=\"dataframe\">\n",
       "  <thead>\n",
       "    <tr style=\"text-align: right;\">\n",
       "      <th></th>\n",
       "      <th>pu_date</th>\n",
       "      <th>order_year</th>\n",
       "      <th>order_month</th>\n",
       "      <th>order_month_name</th>\n",
       "      <th>pu_day</th>\n",
       "      <th>pu_day_name</th>\n",
       "      <th>pu_hour</th>\n",
       "      <th>order_pu_diff</th>\n",
       "      <th>donut</th>\n",
       "      <th>ensaymada</th>\n",
       "      <th>...</th>\n",
       "      <th>pineapple tart</th>\n",
       "      <th>pie</th>\n",
       "      <th>butter tart</th>\n",
       "      <th>croissant</th>\n",
       "      <th>bagel</th>\n",
       "      <th>asado</th>\n",
       "      <th>pizza</th>\n",
       "      <th>danish</th>\n",
       "      <th>dutchie</th>\n",
       "      <th>cake</th>\n",
       "    </tr>\n",
       "  </thead>\n",
       "  <tbody>\n",
       "    <tr>\n",
       "      <th>0</th>\n",
       "      <td>2020-03-13</td>\n",
       "      <td>2020</td>\n",
       "      <td>03</td>\n",
       "      <td>March</td>\n",
       "      <td>13</td>\n",
       "      <td>Friday</td>\n",
       "      <td>16:00</td>\n",
       "      <td>2</td>\n",
       "      <td>1</td>\n",
       "      <td>0</td>\n",
       "      <td>...</td>\n",
       "      <td>0</td>\n",
       "      <td>0</td>\n",
       "      <td>0</td>\n",
       "      <td>0</td>\n",
       "      <td>0</td>\n",
       "      <td>0</td>\n",
       "      <td>0</td>\n",
       "      <td>0</td>\n",
       "      <td>0</td>\n",
       "      <td>0</td>\n",
       "    </tr>\n",
       "    <tr>\n",
       "      <th>1</th>\n",
       "      <td>2020-03-31</td>\n",
       "      <td>2020</td>\n",
       "      <td>03</td>\n",
       "      <td>March</td>\n",
       "      <td>31</td>\n",
       "      <td>Tuesday</td>\n",
       "      <td>10:00</td>\n",
       "      <td>2</td>\n",
       "      <td>1</td>\n",
       "      <td>0</td>\n",
       "      <td>...</td>\n",
       "      <td>0</td>\n",
       "      <td>0</td>\n",
       "      <td>0</td>\n",
       "      <td>0</td>\n",
       "      <td>0</td>\n",
       "      <td>0</td>\n",
       "      <td>1</td>\n",
       "      <td>0</td>\n",
       "      <td>0</td>\n",
       "      <td>0</td>\n",
       "    </tr>\n",
       "    <tr>\n",
       "      <th>2</th>\n",
       "      <td>2020-04-01</td>\n",
       "      <td>2020</td>\n",
       "      <td>04</td>\n",
       "      <td>April</td>\n",
       "      <td>01</td>\n",
       "      <td>Wednesday</td>\n",
       "      <td>09:00</td>\n",
       "      <td>2</td>\n",
       "      <td>1</td>\n",
       "      <td>0</td>\n",
       "      <td>...</td>\n",
       "      <td>0</td>\n",
       "      <td>0</td>\n",
       "      <td>0</td>\n",
       "      <td>0</td>\n",
       "      <td>0</td>\n",
       "      <td>0</td>\n",
       "      <td>0</td>\n",
       "      <td>0</td>\n",
       "      <td>0</td>\n",
       "      <td>0</td>\n",
       "    </tr>\n",
       "    <tr>\n",
       "      <th>3</th>\n",
       "      <td>2020-04-03</td>\n",
       "      <td>2020</td>\n",
       "      <td>04</td>\n",
       "      <td>April</td>\n",
       "      <td>03</td>\n",
       "      <td>Friday</td>\n",
       "      <td>11:00</td>\n",
       "      <td>4</td>\n",
       "      <td>1</td>\n",
       "      <td>0</td>\n",
       "      <td>...</td>\n",
       "      <td>0</td>\n",
       "      <td>0</td>\n",
       "      <td>0</td>\n",
       "      <td>0</td>\n",
       "      <td>0</td>\n",
       "      <td>0</td>\n",
       "      <td>0</td>\n",
       "      <td>0</td>\n",
       "      <td>0</td>\n",
       "      <td>0</td>\n",
       "    </tr>\n",
       "    <tr>\n",
       "      <th>4</th>\n",
       "      <td>2020-04-03</td>\n",
       "      <td>2020</td>\n",
       "      <td>04</td>\n",
       "      <td>April</td>\n",
       "      <td>03</td>\n",
       "      <td>Friday</td>\n",
       "      <td>13:00</td>\n",
       "      <td>3</td>\n",
       "      <td>1</td>\n",
       "      <td>0</td>\n",
       "      <td>...</td>\n",
       "      <td>0</td>\n",
       "      <td>0</td>\n",
       "      <td>0</td>\n",
       "      <td>0</td>\n",
       "      <td>0</td>\n",
       "      <td>0</td>\n",
       "      <td>1</td>\n",
       "      <td>0</td>\n",
       "      <td>0</td>\n",
       "      <td>0</td>\n",
       "    </tr>\n",
       "  </tbody>\n",
       "</table>\n",
       "<p>5 rows × 29 columns</p>\n",
       "</div>"
      ],
      "text/plain": [
       "      pu_date  order_year order_month order_month_name pu_day pu_day_name  \\\n",
       "0  2020-03-13        2020          03            March     13      Friday   \n",
       "1  2020-03-31        2020          03            March     31     Tuesday   \n",
       "2  2020-04-01        2020          04            April     01   Wednesday   \n",
       "3  2020-04-03        2020          04            April     03      Friday   \n",
       "4  2020-04-03        2020          04            April     03      Friday   \n",
       "\n",
       "  pu_hour  order_pu_diff  donut  ensaymada  ...  pineapple tart  pie  \\\n",
       "0   16:00              2      1          0  ...               0    0   \n",
       "1   10:00              2      1          0  ...               0    0   \n",
       "2   09:00              2      1          0  ...               0    0   \n",
       "3   11:00              4      1          0  ...               0    0   \n",
       "4   13:00              3      1          0  ...               0    0   \n",
       "\n",
       "   butter tart  croissant  bagel  asado  pizza  danish  dutchie  cake  \n",
       "0            0          0      0      0      0       0        0     0  \n",
       "1            0          0      0      0      1       0        0     0  \n",
       "2            0          0      0      0      0       0        0     0  \n",
       "3            0          0      0      0      0       0        0     0  \n",
       "4            0          0      0      0      1       0        0     0  \n",
       "\n",
       "[5 rows x 29 columns]"
      ]
     },
     "execution_count": 102,
     "metadata": {},
     "output_type": "execute_result"
    }
   ],
   "source": [
    "pub_order_clean.head()"
   ]
  },
  {
   "cell_type": "code",
   "execution_count": 94,
   "id": "ccc693b7",
   "metadata": {},
   "outputs": [],
   "source": [
    "# export final data with one hot encoded orders\n",
    "pub_order_clean.to_excel(\"../data/\" + \"bakery_orders_clean.xlsx\", index=0)"
   ]
  }
 ],
 "metadata": {
  "kernelspec": {
   "display_name": "lhl_env38",
   "language": "python",
   "name": "python3"
  },
  "language_info": {
   "codemirror_mode": {
    "name": "ipython",
    "version": 3
   },
   "file_extension": ".py",
   "mimetype": "text/x-python",
   "name": "python",
   "nbconvert_exporter": "python",
   "pygments_lexer": "ipython3",
   "version": "3.8.13"
  }
 },
 "nbformat": 4,
 "nbformat_minor": 5
}
